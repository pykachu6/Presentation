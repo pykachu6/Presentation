{
 "cells": [
  {
   "cell_type": "markdown",
   "metadata": {},
   "source": [
    "# Welcome to the Awesome-sauce, let be your guide to radness"
   ]
  },
  {
   "cell_type": "markdown",
   "metadata": {},
   "source": [
    "### Heat transfer model: Infinite Plate Bounded By Plane Surface with Internal Heating\n",
    "\n",
    "\n",
    "\n",
    "#### 1.) Diagram:\n",
    "![](Heatmodel.png)"
   ]
  },
  {
   "cell_type": "markdown",
   "metadata": {},
   "source": [
    "#### 2.) A mathematical expression of the unsolved differential equation, with an explanation of each term:\n",
    "\n",
    "$$ \\frac{dT}{dt} = \\frac{\\kappa}{\\rho C_p}[\\frac{d^2T}{dx^2} + \\frac{d^2T}{dy^2} + \\frac{d^2T}{dz^2}] + \\frac{q}{\\rho C_p} $$\n",
    "\n",
    "\n",
    "\n",
    "| Letter  | Meaning                | Units                  |\n",
    "|---------|------------------------|------------------------|\n",
    "| T       | Temperature            | K                      |\n",
    "| $\\kappa $  | Thermal  Conductivity  | $\\frac{W}{m*K} $                   |\n",
    "| $\\rho$     | Density                | $\\frac{Kg}{m^3} $               |\n",
    "| $C_p$     | Heat Capacity          | $\\frac{J}{kg*K} $ |\n",
    "| x       | distance from side     | m                    |\n",
    "| L       | Total length           | m                    |\n",
    "| X       | Length Ratio           | [ ]                  |\n",
    "| $q_v $    | Volumetric  heat  rate | $\\frac{W}{m^3} $               |\n",
    "| Po      | Pomerantsev modulus    | $\\frac{q_v*L^2}{\\kappa*\\delta T}$  |\n"
   ]
  },
  {
   "cell_type": "markdown",
   "metadata": {},
   "source": [
    "#### 3.) Explanation of expected behavior\n",
    "\n",
    "There are three scenarios:\n",
    "\n",
    "1: if q = 0, the line should be linear\n",
    "\n",
    "2: if q > 0, the hump of the curve will be between T1 and T2\n",
    "\n",
    "3: if q >> 0, the hump of the curve will be above T1 and T2"
   ]
  },
  {
   "cell_type": "markdown",
   "metadata": {},
   "source": [
    "#### 4.) A step-by-step solution of the differential equation using analytical methods\n",
    "\n",
    "Since transient, all time-dependent terms are equal to zero (awesome)\n",
    "\n",
    "$$ 0 = \\frac{\\kappa}{\\rho C_p}[\\frac{d^2T}{dx^2} + 0 + 0] + \\frac{q_v}{\\rho C_p} $$\n",
    "\n",
    "Massage the equation a little bit:\n",
    "\n",
    "$$  \\frac{d^2T}{dx^2} = - \\frac{q_v}{\\kappa} $$\n",
    "\n",
    "Integrate in respect to T and x:\n",
    "\n",
    "$$  \\int \\frac{d^2T}{dx} dT = -  \\int \\frac{q_v}{\\kappa} dx  \\rightarrow \\frac{dT}{dx} = - \\frac{q_v}{\\kappa}*x + C_1  $$ \n",
    "\n",
    "ONCE AGAIN, integrate in respect to T and x:\n",
    "\n",
    "$$ \\int dT = - \\int \\frac{q_v}{\\kappa}*x + C_1 dx  \\rightarrow T(x) = - \\frac{q_v}{2\\kappa}x^2 + C_1x + C_2 $$\n",
    "\n",
    "Sweet! Here is the general form:\n",
    "\n",
    "$$ T(x) = - \\frac{q_v}{2\\kappa}x^2 + C_1x + C_2  $$\n",
    "\n",
    "Applying boundary condition 1: $T(0) = T_1$\n",
    "\n",
    "$$ T_1 = - \\frac{q_v}{2\\kappa}0^2 + C_10 + C_2  $$\n",
    "\n",
    "$$ T_1 = C_2$$\n",
    "\n",
    "Applying boundary condition 2: $T(L) = T_2$\n",
    "\n",
    "$$ T_2 = - \\frac{q_v}{2\\kappa}L^2 + C_1L + T_1  $$\n",
    "\n",
    "$$ T_2 -  T_1 =\\Delta T =  - \\frac{q_v}{2\\kappa}L^2 + C_1L   $$\n",
    "\n",
    "$$ C_1 = \\frac{\\Delta T + \\frac{q_v}{2\\kappa}L^2}{L} $$\n",
    "\n",
    "Plugging C_1 and C_2 gets a big hot mess:\n",
    "\n",
    "$$ T(x) = - \\frac{q_v}{2\\kappa}x^2 + \\frac{\\Delta T + \\frac{q_v}{2\\kappa}L^2}{L} x + T_1  $$\n",
    "\n",
    "Some simplifying steps: \n",
    "\n",
    "$$ \\frac{T(x) - T_1}{\\Delta T} = - \\frac{q_v}{2\\kappa\\Delta T}x^2 + \\frac{1 + \\frac{q_v}{2\\kappa\\Delta T}L^2}{L} x   $$\n",
    "\n",
    "In the heat transfer solutions book, the term X = x/L comes into play:\n",
    "\n",
    "$$ \\frac{T(x) - T_1}{\\Delta T} = - \\frac{q_v}{2\\kappa\\Delta T}(XL)^2 + \\frac{1 + \\frac{q_v}{2\\kappa\\Delta T}L^2}{L} XL   $$\n",
    "\n",
    "Massaging: \n",
    "\n",
    "$$ \\frac{T(x) - T_1}{\\Delta T} = - \\frac{q_vL^2}{2\\kappa\\Delta T}X^2 + X + \\frac{q_vL^2}{2\\kappa\\Delta T} X   $$\n",
    "\n",
    "In the heat transfer solutions book, the term $po = \\frac{q_v*L^2}{\\kappa*\\delta T}$ comes into play:\n",
    "\n",
    "$$ \\frac{T(x) - T_1}{\\Delta T} = - \\frac{Po X^2}{2} + X + \\frac{Po X}{2}   $$\n",
    "\n",
    "Combine like terms TO COMPLETE MY FINAL FORM: \n",
    "\n",
    "$$ \\frac{T(x) - T_1}{T_2 - T_1} =  X + \\frac{Po X(1-X)}{2}   $$"
   ]
  },
  {
   "cell_type": "markdown",
   "metadata": {},
   "source": [
    "#### 5.) A plot of the solution and an explanation of its behavior"
   ]
  },
  {
   "cell_type": "code",
   "execution_count": 55,
   "metadata": {},
   "outputs": [
    {
     "data": {
      "text/plain": [
       "Text(0,0.5,'T(x)')"
      ]
     },
     "execution_count": 55,
     "metadata": {},
     "output_type": "execute_result"
    },
    {
     "data": {
      "image/png": "[encoded data removed]",
      "text/plain": [
       "<Figure size 432x288 with 1 Axes>"
      ]
     },
     "metadata": {
      "needs_background": "light"
     },
     "output_type": "display_data"
    }
   ],
   "source": [
    "import numpy as np\n",
    "import matplotlib.pyplot as plt\n",
    "from array import *\n",
    "\n",
    "T1 = 100\n",
    "T2 = 200\n",
    "delta_T = T2-T1\n",
    "L = 1\n",
    "\n",
    "k = 385.0 # for copper\n",
    "\n",
    "q = [0 , 500, 1000, 2000]\n",
    "\n",
    "x = np.linspace(0,L,100)\n",
    "T = 0*x\n",
    "\n",
    "for p in range(0,len(q)):\n",
    "\n",
    "    for i in range(0,len(x)):\n",
    "    \n",
    "        Char_X = x[i]/L\n",
    "        Po = q[p]*L**2/k\n",
    "        \n",
    "        T[i] = (Char_X +  Char_X*Po*(1-Char_X)/2)*delta_T + T1\n",
    "    \n",
    "    plt.plot(x,T)\n",
    "\n",
    "p = ('0' , '500', '1000', '2000')\n",
    "l = ['q = ' +  s for s in p]\n",
    "plt.legend(l)\n",
    "plt.xlabel('x')\n",
    "plt.ylabel('T(x)')"
   ]
  },
  {
   "cell_type": "code",
   "execution_count": 99,
   "metadata": {},
   "outputs": [
    {
     "name": "stdout",
     "output_type": "stream",
     "text": [
      "[  100.     0.  -100.  -200.  -300.  -400.  -500.  -600.  -700.  -800.\n",
      "  -900. -1000. -1100. -1200. -1300. -1400. -1500. -1600. -1700. -1800.\n",
      " -1900. -2000. -2100. -2200. -2300. -2400. -2500. -2600. -2700. -2800.\n",
      " -2900. -3000. -3100. -3200. -3300. -3400. -3500. -3600. -3700. -3800.\n",
      " -3900. -4000. -4100. -4200. -4300. -4400. -4500. -4600. -4700. -4800.\n",
      " -4900. -5000. -5100. -5200. -5300. -5400. -5500. -5600. -5700. -5800.\n",
      " -5900. -6000. -6100. -6200. -6300. -6400. -6500. -6600. -6700. -6800.\n",
      " -6900. -7000. -7100. -7200. -7300. -7400. -7500. -7600. -7700. -7800.\n",
      " -7900. -8000. -8100. -8200. -8300. -8400. -8500. -8600. -8700. -8800.\n",
      " -8900. -9000. -9100. -9200. -9300. -9400. -9500. -9600. -9700. -9800.]\n"
     ]
    },
    {
     "data": {
      "image/png": "[encoded data removed]",
      "text/plain": [
       "<Figure size 432x288 with 1 Axes>"
      ]
     },
     "metadata": {
      "needs_background": "light"
     },
     "output_type": "display_data"
    }
   ],
   "source": [
    "import numpy as np\n",
    "import matplotlib.pyplot as plt\n",
    "from array import *\n",
    "\n",
    "T1 = 100\n",
    "T2 = 200\n",
    "delta_T = T2-T1\n",
    "L = 1\n",
    "\n",
    "k = 385.0 # for copper\n",
    "\n",
    "q = [500]\n",
    "\n",
    "x = 100;\n",
    "x_cuts = 100\n",
    "\n",
    "x_inc = x / x_cuts \n",
    "\n",
    "overall = range(0,x,x_inc)\n",
    "\n",
    "\n",
    "\n",
    "T = 0*(np.zeros(x_cuts))\n",
    "T[0] = T1\n",
    "T[x_cuts-1] = T2\n",
    "\n",
    "\n",
    "for i in range(1,x_cuts-1):\n",
    "        T[i+1] = 2*T[i] - T[i-1]\n",
    "        \n",
    "plt.plot(overall,T)\n",
    "print(T)"
   ]
  }
 ],
 "metadata": {
  "kernelspec": {
   "display_name": "Python 2",
   "language": "python",
   "name": "python2"
  },
  "language_info": {
   "codemirror_mode": {
    "name": "ipython",
    "version": 2
   },
   "file_extension": ".py",
   "mimetype": "text/x-python",
   "name": "python",
   "nbconvert_exporter": "python",
   "pygments_lexer": "ipython2",
   "version": "2.7.16"
  }
 },
 "nbformat": 4,
 "nbformat_minor": 2
}
